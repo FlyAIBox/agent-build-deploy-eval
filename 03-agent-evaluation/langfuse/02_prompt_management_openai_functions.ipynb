{
  "cells": [
    {
      "cell_type": "markdown",
      "metadata": {
        "id": "Yc7JQAashNea"
      },
      "source": [
        "---\n",
        "description: 使用 Langfuse 提示管理，在采用 OpenAI 函数调用时协作式地进行提示词的版本控制的实践手册。\n",
        "category: 提示管理\n",
        "---\n",
        "\n",
        "# 示例：面向 OpenAI 函数调用的 Langfuse 提示管理（Python）\n",
        "\n",
        "Langfuse 的[提示管理](https://langfuse.com/docs/prompts)可以在一个地方协作管理并进行提示词的版本控制。本文示例演示如何利用 Langfuse 提示的灵活 `config` 对象来保存函数调用选项和模型参数。"
      ]
    },
    {
      "cell_type": "markdown",
      "metadata": {
        "id": "TwyrmsWZhsFW"
      },
      "source": [
        "## 环境准备"
      ]
    },
    {
      "cell_type": "code",
      "execution_count": null,
      "metadata": {
        "colab": {
          "base_uri": "https://localhost:8080/"
        },
        "id": "gJzIBAVKKdoD",
        "outputId": "ca885e81-1e93-47cb-e241-67022b6cb83f"
      },
      "outputs": [],
      "source": [
        "%pip install langfuse openai --upgrade"
      ]
    },
    {
      "cell_type": "code",
      "execution_count": null,
      "metadata": {
        "id": "_f8m2HYAKfJz"
      },
      "outputs": [],
      "source": [
        "import os\n",
        "\n",
        "# 获取你的项目密钥\n",
        "os.environ[\"LANGFUSE_PUBLIC_KEY\"] = \"\"\n",
        "os.environ[\"LANGFUSE_SECRET_KEY\"] = \"\"\n",
        "os.environ[\"LANGFUSE_HOST\"] = \"https://cloud.langfuse.com\"\n",
        "\n",
        "# OpenAI 密钥\n",
        "os.environ[\"OPENAI_API_KEY\"] = \"\""
      ]
    },
    {
      "cell_type": "code",
      "execution_count": 14,
      "metadata": {
        "colab": {
          "base_uri": "https://localhost:8080/"
        },
        "id": "0ABMEWVCKsPW",
        "outputId": "0cc429c6-862d-461e-b2d9-236258ae479d"
      },
      "outputs": [
        {
          "data": {
            "text/plain": [
              "True"
            ]
          },
          "execution_count": 14,
          "metadata": {},
          "output_type": "execute_result"
        }
      ],
      "source": [
        "from langfuse import get_client\n",
        "\n",
        "langfuse = get_client()"
      ]
    },
    {
      "cell_type": "markdown",
      "metadata": {
        "id": "fdHpmb6vLAiW"
      },
      "source": [
        "## 在 Langfuse 提示管理中添加提示词\n",
        "\n",
        "本示例通过 SDK 添加所用提示词。你也可以在 Langfuse 的 UI 中编辑并进行版本管理。\n",
        "\n",
        "- `name`：在 Langfuse 提示管理中标识该提示词的名称\n",
        "- 提示词中包含 `json_schema` 变量\n",
        "- `config`：包含 `model_name`、`temperature` 与 `json_schema`\n",
        "- `labels`：包含 `production`，以便立即作为默认版本使用"
      ]
    },
    {
      "cell_type": "code",
      "execution_count": null,
      "metadata": {
        "id": "pX54t3k0gM5w"
      },
      "outputs": [],
      "source": [
        "langfuse.create_prompt(\n",
        "    name=\"travel_planning\",\n",
        "    prompt=\"请基于用户的旅行需求生成结构化的旅行规划，并以 JSON 格式返回。使用如下 JSON 模式：{{json_schema}}\",\n",
        "    config={\n",
        "        \"model\":\"gpt-3.5-turbo-1106\",\n",
        "        \"temperature\": 0,\n",
        "        \"json_schema\":{\n",
        "            \"destination\": \"string（目的地）\",\n",
        "            \"start_date\": \"string（出发日期，YYYY-MM-DD）\",\n",
        "            \"end_date\": \"string（返回日期，YYYY-MM-DD）\",\n",
        "            \"duration_days\": \"number（行程天数）\",\n",
        "            \"budget_level\": \"string（预算水平：经济/适中/高端）\",\n",
        "            \"traveler_count\": \"number（出行人数）\",\n",
        "            \"interests\": \"array of strings（兴趣偏好，如 美食/自然/博物馆/夜生活）\",\n",
        "            \"must_try_foods\": \"array of strings（必吃清单）\",\n",
        "            \"daily_itinerary\": \"array of strings（逐日行程概述）\",\n",
        "            \"accommodation_suggestion\": \"string（住宿建议）\",\n",
        "            \"transportation\": \"string（主要交通方式）\",\n",
        "            \"notes\": \"string（注意事项）\"\n",
        "        }\n",
        "    },\n",
        "    labels=[\"production\"]\n",
        ");"
      ]
    },
    {
      "cell_type": "markdown",
      "metadata": {},
      "source": [
        "在 Langfuse UI 中查看提示词\n",
        "\n",
        "![Langfuse 提示管理](https://langfuse.com/images/docs/prompt-management-with-config-for-openai-functions.png)"
      ]
    },
    {
      "cell_type": "markdown",
      "metadata": {
        "id": "q7uPMs9zksqB"
      },
      "source": [
        "## 示例应用\n",
        "\n",
        "### 从 Langfuse 获取当前提示词版本"
      ]
    },
    {
      "cell_type": "code",
      "execution_count": null,
      "metadata": {
        "id": "7qmbdIUkkq0o"
      },
      "outputs": [],
      "source": [
        "prompt = langfuse.get_prompt(\"travel_planning\")"
      ]
    },
    {
      "cell_type": "markdown",
      "metadata": {},
      "source": [
        "现在可以使用该提示词来生成系统消息"
      ]
    },
    {
      "cell_type": "code",
      "execution_count": 17,
      "metadata": {
        "colab": {
          "base_uri": "https://localhost:8080/",
          "height": 35
        },
        "id": "bJOIAEn66dw2",
        "outputId": "67aa1c90-57e3-43e6-df1c-388510f613cd"
      },
      "outputs": [
        {
          "data": {
            "application/vnd.google.colaboratory.intrinsic+json": {
              "type": "string"
            },
            "text/plain": [
              "'Extract the key information from this text and return it in JSON format. Use the following schema: TEST SCHEMA'"
            ]
          },
          "execution_count": 17,
          "metadata": {},
          "output_type": "execute_result"
        }
      ],
      "source": [
        "prompt.compile(json_schema=\"TEST SCHEMA\")"
      ]
    },
    {
      "cell_type": "markdown",
      "metadata": {},
      "source": [
        "其中还包含 `config` 对象"
      ]
    },
    {
      "cell_type": "markdown",
      "metadata": {},
      "source": [
        "```python\n",
        "prompt.config\n",
        "```\n",
        "\n",
        "```\n",
        "{'model': 'gpt-3.5-turbo-1106',\n",
        " 'json_schema': {\n",
        "  'destination': 'string（目的地）',\n",
        "  'start_date': 'string（出发日期，YYYY-MM-DD）',\n",
        "  'end_date': 'string（返回日期，YYYY-MM-DD）',\n",
        "  'duration_days': 'number（行程天数）',\n",
        "  'budget_level': 'string（预算水平：经济/适中/高端）',\n",
        "  'traveler_count': 'number（出行人数）',\n",
        "  'interests': 'array of strings（兴趣偏好，如 美食/自然/博物馆/夜生活）',\n",
        "  'must_try_foods': 'array of strings（必吃清单）',\n",
        "  'daily_itinerary': 'array of strings（逐日行程概述）',\n",
        "  'accommodation_suggestion': 'string（住宿建议）',\n",
        "  'transportation': 'string（主要交通方式）',\n",
        "  'notes': 'string（注意事项）'\n",
        " },\n",
        " 'temperature': 0}\n",
        " ```"
      ]
    },
    {
      "cell_type": "markdown",
      "metadata": {
        "id": "MEzzzavik9g8"
      },
      "source": [
        "### 创建示例函数\n",
        "\n",
        "在本示例中，我们通过从 `langfuse.openai` 导入，使用原生的 [Langfuse OpenAI 集成](https://langfuse.com/integrations/model-providers/openai-py)。这将启用 Langfuse 的[追踪](https://langfuse.com/docs/tracing)功能，但该功能并非使用 Langfuse 提示管理所必需。"
      ]
    },
    {
      "cell_type": "code",
      "execution_count": 19,
      "metadata": {
        "id": "V-Kx92x2YT6t"
      },
      "outputs": [],
      "source": [
        "from langfuse.openai import OpenAI\n",
        "client = OpenAI()"
      ]
    },
    {
      "cell_type": "markdown",
      "metadata": {},
      "source": [
        "使用 Langfuse 提示来构造 `plan_trip` 示例函数。\n",
        "\n",
        "**注意：** 你可以在调用 `create` 方法时传入 `langfuse_prompt` 参数，将一次生成与对应的提示词版本关联到 Langfuse Tracing。更多关于与其他集成或 SDK 进行关联的方式，请参阅我们的[提示管理文档](https://langfuse.com/docs/prompts/get-started#link-with-langfuse-tracing-optional)。"
      ]
    },
    {
      "cell_type": "code",
      "execution_count": null,
      "metadata": {
        "id": "w6nncPLUlWg0"
      },
      "outputs": [],
      "source": [
        "import json\n",
        "\n",
        "def plan_trip(travel_request):\n",
        "  # 将 JSON 模式转为字符串\n",
        "  json_schema_str = ', '.join([f\"'{key}': {value}\" for key, value in prompt.config[\"json_schema\"].items()])\n",
        "\n",
        "  # 使用字符串化的 JSON 模式渲染系统提示词\n",
        "  system_message = prompt.compile(json_schema=json_schema_str)\n",
        "\n",
        "  # 组装为 OpenAI 消息格式\n",
        "  messages = [\n",
        "      {\"role\":\"system\",\"content\": system_message},\n",
        "      {\"role\":\"user\",\"content\": travel_request}\n",
        "  ]\n",
        "\n",
        "  # 读取额外配置\n",
        "  model = prompt.config[\"model\"]\n",
        "  temperature = prompt.config[\"temperature\"]\n",
        "\n",
        "  # 调用大模型接口\n",
        "  res = client.chat.completions.create(\n",
        "    model = model,\n",
        "    temperature = temperature,\n",
        "    messages = messages,\n",
        "    response_format = { \"type\": \"json_object\" },\n",
        "    langfuse_prompt = prompt # 在追踪中记录所用提示词版本\n",
        "  )\n",
        "\n",
        "  # 将响应解析为 JSON\n",
        "  res = json.loads(res.choices[0].message.content)\n",
        "\n",
        "  return res"
      ]
    },
    {
      "cell_type": "markdown",
      "metadata": {
        "id": "um6kj0UkqFbW"
      },
      "source": [
        "### 运行示例"
      ]
    },
    {
      "cell_type": "code",
      "execution_count": null,
      "metadata": {
        "id": "OFXWywFeqEjR"
      },
      "outputs": [],
      "source": [
        "# 旅行需求示例\n",
        "TRAVEL_REQUEST = \"\"\"\n",
        "出发地：上海\n",
        "目的地：东京\n",
        "出发日期：2025-10-01\n",
        "返回日期：2025-10-06\n",
        "预算：适中\n",
        "人数：2 人\n",
        "兴趣偏好：美食、现代建筑、动漫文化\n",
        "特殊需求：尽量避开人流高峰；每日步行不超过 12 公里\n",
        "\"\"\""
      ]
    },
    {
      "cell_type": "code",
      "execution_count": null,
      "metadata": {},
      "outputs": [],
      "source": [
        "plan = plan_trip(TRAVEL_REQUEST)"
      ]
    },
    {
      "cell_type": "markdown",
      "metadata": {},
      "source": [
        "```\n",
        "{\n",
        " 'destination': '东京',\n",
        " 'start_date': '2025-10-01',\n",
        " 'end_date': '2025-10-06',\n",
        " 'duration_days': 6,\n",
        " 'budget_level': '适中',\n",
        " 'traveler_count': 2,\n",
        " 'interests': ['美食', '现代建筑', '动漫文化'],\n",
        " 'must_try_foods': ['寿司', '拉面', '天妇罗'],\n",
        " 'daily_itinerary': [\n",
        "   'D1: 抵达与休整；傍晚浅草寺与晴空塔夜景',\n",
        "   'D2: 筑地周边美食与银座步行；teamLab Planets 夜场',\n",
        "   'D3: 台场一日（高达、海边公园、购物）',\n",
        "   'D4: 涩谷与新宿（街拍、都市建筑、高空观景）',\n",
        "   'D5: 秋叶原与上野（动漫与博物馆）',\n",
        "   'D6: 返程；按航班时间调整' \n",
        " ],\n",
        " 'accommodation_suggestion': '新宿/银座一带交通便利，便于多点放射游览',\n",
        " 'transportation': '以地铁为主，配合步行与少量打车',\n",
        " 'notes': '国庆期间部分景点人流较大，尽量选择早场/夜场；每日步行控制在 10-12 公里内，必要时增补地铁/公交。'\n",
        "}\n",
        "```"
      ]
    },
    {
      "cell_type": "markdown",
      "metadata": {},
      "source": [
        "## 在 Langfuse 中查看追踪\n",
        "\n",
        "由于我们使用了与 OpenAI SDK 的原生 Langfuse 集成，可以直接在 Langfuse 中查看此次调用的完整追踪。\n",
        "\n",
        "![Langfuse 中 OpenAI 函数的追踪](https://langfuse.com/images/docs/openai-functions-trace-with-prompt-management.png)"
      ]
    },
    {
      "cell_type": "markdown",
      "metadata": {},
      "source": [
        "## 在 Langfuse 中迭代提示词\n",
        "\n",
        "现在可以在 Langfuse 的 UI 中直接迭代提示词，包括模型参数与函数调用选项，而无需修改代码或重新部署应用。"
      ]
    }
  ],
  "metadata": {
    "colab": {
      "provenance": []
    },
    "kernelspec": {
      "display_name": "Python 3",
      "name": "python3"
    },
    "language_info": {
      "name": "python"
    }
  },
  "nbformat": 4,
  "nbformat_minor": 0
}
