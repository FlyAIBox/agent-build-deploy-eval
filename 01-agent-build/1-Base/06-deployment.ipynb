{
  "cells": [
    {
      "cell_type": "markdown",
      "metadata": {
        "colab_type": "text",
        "id": "view-in-github"
      },
      "source": [
        "<a href=\"https://colab.research.google.com/github/FlyAIBox/langchain-academy/blob/fly101/module-1/deployment.ipynb\" target=\"_parent\"><img src=\"https://colab.research.google.com/assets/colab-badge.svg\" alt=\"Open In Colab\"/></a>"
      ]
    },
    {
      "cell_type": "markdown",
      "id": "c20242c4-0010-4065-89f6-0e0b16c7da6e",
      "metadata": {
        "id": "c20242c4-0010-4065-89f6-0e0b16c7da6e"
      },
      "source": [
        "# 部署（Deployment）\n",
        "\n",
        "## 回顾（Review）\n",
        "\n",
        "我们已经构建了一个带有“记忆能力”的智能体（agent）：\n",
        "\n",
        "- `act`：让大模型调用预先注册的工具（Tools）\n",
        "- `observe`：将工具的输出结果反馈给大模型\n",
        "- `reason`：让大模型基于工具输出进行推理，决定下一步动作（继续调用工具，或直接回复）\n",
        "- `persist state`：使用内存检查点（in-memory checkpointer）保存对话与状态，支持长对话与中断续跑\n",
        "\n",
        "## 目标（Goals）\n",
        "\n",
        "下面我们将介绍如何在本地通过 Studio，以及在 `LangGraph Cloud` 上，实际部署并运行这个智能体。"
      ]
    },
    {
      "cell_type": "code",
      "execution_count": 1,
      "id": "f348498b-f277-4514-b163-fe5ed9afe6fa",
      "metadata": {
        "id": "f348498b-f277-4514-b163-fe5ed9afe6fa"
      },
      "outputs": [],
      "source": [
        "%%capture --no-stderr\n",
        "# %pip install --quiet -U langgraph_sdk langchain_core\n",
        "%pip install --quiet langgraph_sdk==0.2.6 langchain_core==0.3.75"
      ]
    },
    {
      "cell_type": "markdown",
      "id": "e4d0f4a7-82ee-4458-bd9a-e246ce2dc4ae",
      "metadata": {
        "id": "e4d0f4a7-82ee-4458-bd9a-e246ce2dc4ae"
      },
      "source": [
        "## 核心概念（Concepts）\n",
        "\n",
        "需要先理解以下核心概念：\n",
        "\n",
        "`LangGraph` ——\n",
        "- 一个用于构建智能体（agent）工作流的 Python / JavaScript 库。\n",
        "\n",
        "`LangGraph API` ——\n",
        "- 将 graph（工作流）代码打包成可服务化的接口。\n",
        "- 提供任务队列，用于管理异步执行。\n",
        "- 提供状态持久化，保证多轮交互的上下文连续。\n",
        "\n",
        "`LangGraph Cloud` ——\n",
        "- 官方托管的 LangGraph API 云服务。\n",
        "- 支持从 GitHub 仓库直接部署 graph。\n",
        "- 提供监控与追踪能力（monitoring & tracing）。\n",
        "- 每次部署都会获得唯一访问 URL。\n",
        "\n",
        "`LangGraph Studio` ——\n",
        "- LangGraph 应用的集成开发环境（IDE）。\n",
        "- 以前后端分离方式工作：前端是可视化界面，后端依赖 API。\n",
        "- 可在本地运行，也可连接云端部署进行调试。\n",
        "\n",
        "`LangGraph SDK` ——\n",
        "- 用于以编程方式访问 LangGraph 的 Python 库。\n",
        "- 无论连接本地还是云端，接口保持一致。\n",
        "- 支持创建客户端、管理 assistant、管理 thread、执行 run 等。\n",
        "\n",
        "## 本地测试（Testing Locally）\n",
        "\n",
        "**⚠️ 说明**\n",
        "\n",
        "我们已更新 Studio，使其可在本地运行并通过浏览器访问。这是当前推荐的运行方式（替代视频中展示的桌面应用）。本地开发服务器的文档见：[本地开发服务器概念](https://langchain-ai.github.io/langgraph/concepts/langgraph_studio/#local-development-server) 与 [如何运行本地 Studio](https://langchain-ai.github.io/langgraph/how-tos/local-studio/#run-the-development-server)。\n",
        "\n",
        "在本模块的 `/studio` 目录下，运行以下命令启动本地开发服务器：\n",
        "\n",
        "```\n",
        "langgraph dev\n",
        "```\n",
        "\n",
        "启动后，你应看到类似输出：\n",
        "```\n",
        "- 🚀 API: http://127.0.0.1:2024\n",
        "- 🎨 Studio UI: https://smith.langchain.com/studio/?baseUrl=http://127.0.0.1:2024\n",
        "- 📚 API Docs: http://127.0.0.1:2024/docs\n",
        "```\n",
        "\n",
        "然后在浏览器打开 Studio 界面：`https://smith.langchain.com/studio/?baseUrl=http://127.0.0.1:2024`。"
      ]
    },
    {
      "cell_type": "code",
      "execution_count": null,
      "id": "fa75ebd4-91fe-42c5-8122-c81e72133477",
      "metadata": {
        "id": "fa75ebd4-91fe-42c5-8122-c81e72133477"
      },
      "outputs": [],
      "source": [
        "if 'google.colab' in str(get_ipython()):\n",
        "    raise Exception(\"Unfortunately LangGraph Studio is currently not supported on Google Colab\")"
      ]
    },
    {
      "cell_type": "code",
      "execution_count": null,
      "id": "18b281d8-bd07-4721-922c-347838ceee6b",
      "metadata": {
        "id": "18b281d8-bd07-4721-922c-347838ceee6b"
      },
      "outputs": [],
      "source": [
        "from langgraph_sdk import get_client"
      ]
    },
    {
      "cell_type": "code",
      "execution_count": null,
      "id": "4c96f353-5dc3-41c8-a3e4-6bf07ca455f8",
      "metadata": {
        "id": "4c96f353-5dc3-41c8-a3e4-6bf07ca455f8"
      },
      "outputs": [],
      "source": [
        "# 本地开发服务器的 URL\n",
        "URL = \"http://127.0.0.1:2024\"\n",
        "client = get_client(url=URL)\n",
        "\n",
        "# 查询当前服务中可用的所有图（assistants）\n",
        "assistants = await client.assistants.search()"
      ]
    },
    {
      "cell_type": "code",
      "execution_count": null,
      "id": "6a1352fa-68ad-4963-890e-c95d93570917",
      "metadata": {
        "id": "6a1352fa-68ad-4963-890e-c95d93570917",
        "outputId": "55ac40c6-f39d-46d2-cd97-805654854084"
      },
      "outputs": [
        {
          "data": {
            "text/plain": [
              "{'assistant_id': 'fe096781-5601-53d2-b2f6-0d3403f7e9ca',\n",
              " 'graph_id': 'agent',\n",
              " 'config': {},\n",
              " 'metadata': {'created_by': 'system'},\n",
              " 'name': 'agent',\n",
              " 'created_at': '2025-03-04T22:57:28.424565+00:00',\n",
              " 'updated_at': '2025-03-04T22:57:28.424565+00:00',\n",
              " 'version': 1}"
            ]
          },
          "execution_count": 4,
          "metadata": {},
          "output_type": "execute_result"
        }
      ],
      "source": [
        "assistants[-3]"
      ]
    },
    {
      "cell_type": "code",
      "execution_count": null,
      "id": "ba9c28a0-d712-496c-b191-7d620589ba33",
      "metadata": {
        "id": "ba9c28a0-d712-496c-b191-7d620589ba33"
      },
      "outputs": [],
      "source": [
        "# 创建线程（thread）以跟踪一次运行（run）的状态\n",
        "thread = await client.threads.create()"
      ]
    },
    {
      "cell_type": "markdown",
      "id": "2e7e4177-3644-43fa-a2f1-08f73292d1a6",
      "metadata": {
        "id": "2e7e4177-3644-43fa-a2f1-08f73292d1a6"
      },
      "source": [
        "现在我们可以使用 [`client.runs.stream`](https://langchain-ai.github.io/langgraph/concepts/low_level/#stream-and-astream) 来运行智能体，需要提供：\n",
        "\n",
        "- `thread_id`：线程标识，用于关联本次运行的状态\n",
        "- `graph_id`：要运行的图（即智能体）的标识\n",
        "- `input`：输入数据（例如消息）\n",
        "- `stream_mode`：流式返回的模式\n",
        "\n",
        "关于流式处理（streaming）我们会在后续模块详细展开。这里先理解：当设置 `stream_mode=\"values\"` 时，我们会在图的每一步后，[流式](https://langchain-ai.github.io/langgraph/cloud/how-tos/stream_values/)返回“完整状态值”。\n",
        "\n",
        "当前步的状态存放在返回块 `chunk.data` 中。"
      ]
    },
    {
      "cell_type": "code",
      "execution_count": null,
      "id": "f65a4480-66b3-48bf-9158-191a7b8c1c18",
      "metadata": {
        "id": "f65a4480-66b3-48bf-9158-191a7b8c1c18",
        "outputId": "33ede59a-7de8-4da4-e40e-46cb2272dcc3"
      },
      "outputs": [
        {
          "name": "stdout",
          "output_type": "stream",
          "text": [
            "{'content': 'Multiply 3 by 2.', 'additional_kwargs': {'example': False, 'additional_kwargs': {}, 'response_metadata': {}}, 'response_metadata': {}, 'type': 'human', 'name': None, 'id': 'cdbd7bd8-c476-4ad4-8ab7-4ad9e3654267', 'example': False}\n",
            "{'content': '', 'additional_kwargs': {'tool_calls': [{'index': 0, 'id': 'call_iIPryzZZxRtXozwwhVtFObNO', 'function': {'arguments': '{\"a\":3,\"b\":2}', 'name': 'multiply'}, 'type': 'function'}]}, 'response_metadata': {'finish_reason': 'tool_calls', 'model_name': 'gpt-4o-2024-05-13', 'system_fingerprint': 'fp_157b3831f5'}, 'type': 'ai', 'name': None, 'id': 'run-06c7243c-426d-4c81-a113-f1335dda5fb2', 'example': False, 'tool_calls': [{'name': 'multiply', 'args': {'a': 3, 'b': 2}, 'id': 'call_iIPryzZZxRtXozwwhVtFObNO', 'type': 'tool_call'}], 'invalid_tool_calls': [], 'usage_metadata': None}\n",
            "{'content': '6', 'additional_kwargs': {}, 'response_metadata': {}, 'type': 'tool', 'name': 'multiply', 'id': '988cb170-f6e6-43c1-82fd-309f519abe6d', 'tool_call_id': 'call_iIPryzZZxRtXozwwhVtFObNO', 'artifact': None, 'status': 'success'}\n",
            "{'content': 'The result of multiplying 3 by 2 is 6.', 'additional_kwargs': {}, 'response_metadata': {'finish_reason': 'stop', 'model_name': 'gpt-4o-2024-05-13', 'system_fingerprint': 'fp_157b3831f5'}, 'type': 'ai', 'name': None, 'id': 'run-7bda0aa0-6895-4250-9625-18419c5dc171', 'example': False, 'tool_calls': [], 'invalid_tool_calls': [], 'usage_metadata': None}\n"
          ]
        }
      ],
      "source": [
        "from langchain_core.messages import HumanMessage\n",
        "\n",
        "# 构造输入\n",
        "input = {\"messages\": [HumanMessage(content=\"Multiply 3 by 2.\")]}\n",
        "\n",
        "# 以流式方式运行并打印每一步最新一条消息\n",
        "async for chunk in client.runs.stream(\n",
        "        thread['thread_id'],\n",
        "        \"agent\",\n",
        "        input=input,\n",
        "        stream_mode=\"values\",\n",
        "    ):\n",
        "    if chunk.data and chunk.event != \"metadata\":\n",
        "        print(chunk.data['messages'][-1])"
      ]
    },
    {
      "cell_type": "markdown",
      "id": "dfa8b850-750c-4054-95e4-1c457a12ec8a",
      "metadata": {
        "id": "dfa8b850-750c-4054-95e4-1c457a12ec8a"
      },
      "source": [
        "## 云端测试（Testing with Cloud）\n",
        "\n",
        "可以通过 LangSmith 将 graph 部署到云端，参考官方指南：[从 GitHub 部署到 LangGraph Cloud](https://langchain-ai.github.io/langgraph/cloud/quick_start/#deploy-from-github-with-langgraph-cloud)。\n",
        "\n",
        "### 在 GitHub 创建新仓库\n",
        "\n",
        "- 进入你的 GitHub 账户\n",
        "- 点击右上角“+”并选择“New repository”\n",
        "- 命名仓库（例如：`langchain-academy`）\n",
        "\n",
        "### 将本地项目关联到 GitHub 远程仓库\n",
        "\n",
        "- 回到你本地克隆本课程代码的终端\n",
        "- 将新建的 GitHub 仓库添加为远程：\n",
        "\n",
        "```\n",
        "git remote add origin https://github.com/your-username/your-repo-name.git\n",
        "```\n",
        "- 推送代码：\n",
        "```\n",
        "git push -u origin main\n",
        "```\n",
        "\n",
        "### 在 LangSmith 连接你的 GitHub 仓库\n",
        "\n",
        "- 打开 [LangSmith](https://smith.langchain.com/)\n",
        "- 在左侧面板点击 `deployments`\n",
        "- 点击 `+ New Deployment`\n",
        "- 选择你刚创建的 GitHub 仓库（如 `langchain-academy`）\n",
        "- 将 `LangGraph API config file` 指向对应模块的 `studio` 目录\n",
        "- 例如 module-1：`module-1/studio/langgraph.json`\n",
        "- 设置所需的 API 密钥（可从 `module-1/studio/.env` 复制）\n",
        "\n",
        "![Deployment step 2](https://cdn.prod.website-files.com/65b8cd72835ceeacd4449a53/66dbad4fd61c93d48e5d0f47_deployment2.png)\n",
        "\n",
        "### 使用你的部署\n",
        "\n",
        "可以通过多种方式与云端部署交互：\n",
        "\n",
        "- 通过 [SDK](https://langchain-ai.github.io/langgraph/cloud/quick_start/#use-with-the-sdk)\n",
        "- 通过 [LangGraph Studio](https://langchain-ai.github.io/langgraph/cloud/quick_start/#interact-with-your-deployment-via-langgraph-studio)\n",
        "\n",
        "![Deployment step 3](https://cdn.prod.website-files.com/65b8cd72835ceeacd4449a53/66dbad4fa159a09a51d601de_deployment3.png)\n",
        "\n",
        "如果在本 Notebook 中使用 SDK，请确保已设置环境变量 `LANGSMITH_API_KEY`。"
      ]
    },
    {
      "cell_type": "code",
      "execution_count": null,
      "id": "646ed351",
      "metadata": {
        "id": "646ed351"
      },
      "outputs": [],
      "source": [
        "import os, getpass\n",
        "\n",
        "def _set_env(var: str):\n",
        "    # 若未设置，则通过交互方式安全读取并设置环境变量\n",
        "    if not os.environ.get(var):\n",
        "        os.environ[var] = getpass.getpass(f\"{var}: \")\n",
        "\n",
        "_set_env(\"LANGSMITH_API_KEY\")"
      ]
    },
    {
      "cell_type": "code",
      "execution_count": null,
      "id": "97dda16c-c87f-4c03-b910-d647e83400b2",
      "metadata": {
        "id": "97dda16c-c87f-4c03-b910-d647e83400b2"
      },
      "outputs": [],
      "source": [
        "# 将此处替换为你在云端部署的 graph URL\n",
        "URL = \"https://langchain-academy-8011c561878d50b1883f7ed11b32d720.default.us.langgraph.app\"\n",
        "client = get_client(url=URL)\n",
        "\n",
        "# 查询云端部署中托管的所有图（assistants）\n",
        "assistants = await client.assistants.search()"
      ]
    },
    {
      "cell_type": "code",
      "execution_count": null,
      "id": "aefa37c0-92fe-4e80-9d5a-80a77b1e3dae",
      "metadata": {
        "id": "aefa37c0-92fe-4e80-9d5a-80a77b1e3dae"
      },
      "outputs": [],
      "source": [
        "# 选择一个待运行的智能体（assistant）\n",
        "agent = assistants[0]"
      ]
    },
    {
      "cell_type": "code",
      "execution_count": null,
      "id": "b810376e-f20f-443a-b1ca-d6793f358f82",
      "metadata": {
        "id": "b810376e-f20f-443a-b1ca-d6793f358f82",
        "outputId": "096632c6-52d7-4de3-8939-ec4d2b59f713"
      },
      "outputs": [
        {
          "data": {
            "text/plain": [
              "{'assistant_id': 'fe096781-5601-53d2-b2f6-0d3403f7e9ca',\n",
              " 'graph_id': 'agent',\n",
              " 'created_at': '2024-08-23T17:58:02.722920+00:00',\n",
              " 'updated_at': '2024-08-23T17:58:02.722920+00:00',\n",
              " 'config': {},\n",
              " 'metadata': {'created_by': 'system'}}"
            ]
          },
          "execution_count": 38,
          "metadata": {},
          "output_type": "execute_result"
        }
      ],
      "source": [
        "agent"
      ]
    },
    {
      "cell_type": "code",
      "execution_count": null,
      "id": "32d65d84-1bcf-4af4-a7c9-55e73d6c1947",
      "metadata": {
        "id": "32d65d84-1bcf-4af4-a7c9-55e73d6c1947",
        "outputId": "462e0cb5-061d-4e5d-a79e-a9c65bfe216f"
      },
      "outputs": [
        {
          "name": "stdout",
          "output_type": "stream",
          "text": [
            "{'content': 'Multiply 3 by 2.', 'additional_kwargs': {'example': False, 'additional_kwargs': {}, 'response_metadata': {}}, 'response_metadata': {}, 'type': 'human', 'name': None, 'id': '8ea04559-f7d4-4c82-89d9-c60fb0502f21', 'example': False}\n",
            "{'content': '', 'additional_kwargs': {'tool_calls': [{'index': 0, 'id': 'call_EQoolxFaaSVU8HrTnCmffLk7', 'function': {'arguments': '{\"a\":3,\"b\":2}', 'name': 'multiply'}, 'type': 'function'}]}, 'response_metadata': {'finish_reason': 'tool_calls', 'model_name': 'gpt-4o-2024-05-13', 'system_fingerprint': 'fp_3aa7262c27'}, 'type': 'ai', 'name': None, 'id': 'run-b0ea5ddd-e9ba-4242-bb8c-80eb52466c76', 'example': False, 'tool_calls': [{'name': 'multiply', 'args': {'a': 3, 'b': 2}, 'id': 'call_EQoolxFaaSVU8HrTnCmffLk7', 'type': 'tool_call'}], 'invalid_tool_calls': [], 'usage_metadata': None}\n",
            "{'content': '6', 'additional_kwargs': {}, 'response_metadata': {}, 'type': 'tool', 'name': 'multiply', 'id': '1bf558e7-79ef-4f21-bb66-acafbd04677a', 'tool_call_id': 'call_EQoolxFaaSVU8HrTnCmffLk7', 'artifact': None, 'status': 'success'}\n",
            "{'content': '3 multiplied by 2 equals 6.', 'additional_kwargs': {}, 'response_metadata': {'finish_reason': 'stop', 'model_name': 'gpt-4o-2024-05-13', 'system_fingerprint': 'fp_3aa7262c27'}, 'type': 'ai', 'name': None, 'id': 'run-ecc4b6ad-af15-4a85-a76c-de2ed0ed8ed9', 'example': False, 'tool_calls': [], 'invalid_tool_calls': [], 'usage_metadata': None}\n"
          ]
        }
      ],
      "source": [
        "from langchain_core.messages import HumanMessage\n",
        "\n",
        "# 创建线程（thread）以跟踪一次运行（run）的状态\n",
        "thread = await client.threads.create()\n",
        "\n",
        "# 构造输入\n",
        "input = {\"messages\": [HumanMessage(content=\"Multiply 3 by 2.\")]}\n",
        "\n",
        "# 以流式方式运行并打印每一步最新一条消息\n",
        "async for chunk in client.runs.stream(\n",
        "        thread['thread_id'],\n",
        "        \"agent\",\n",
        "        input=input,\n",
        "        stream_mode=\"values\",\n",
        "    ):\n",
        "    if chunk.data and chunk.event != \"metadata\":\n",
        "        print(chunk.data['messages'][-1])"
      ]
    },
    {
      "cell_type": "code",
      "execution_count": null,
      "id": "445cb34d-c3b8-4446-a7e3-5fe938abf99b",
      "metadata": {
        "id": "445cb34d-c3b8-4446-a7e3-5fe938abf99b"
      },
      "outputs": [],
      "source": []
    }
  ],
  "metadata": {
    "colab": {
      "include_colab_link": true,
      "provenance": []
    },
    "kernelspec": {
      "display_name": "academy",
      "language": "python",
      "name": "python3"
    },
    "language_info": {
      "codemirror_mode": {
        "name": "ipython",
        "version": 3
      },
      "file_extension": ".py",
      "mimetype": "text/x-python",
      "name": "python",
      "nbconvert_exporter": "python",
      "pygments_lexer": "ipython3",
      "version": "3.11.8"
    }
  },
  "nbformat": 4,
  "nbformat_minor": 5
}
