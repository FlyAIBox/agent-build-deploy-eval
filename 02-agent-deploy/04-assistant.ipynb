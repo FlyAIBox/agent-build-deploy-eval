{
 "cells": [
  {
   "cell_type": "markdown",
   "metadata": {},
   "source": [
    "# 智能助手（Assistants）\n",
    "\n",
    "[智能助手](https://langchain-ai.github.io/langgraph/concepts/assistants/#resources) 为开发者提供了一种快速、结构化的方式来调整和版本化 LangGraph 智能体，便于持续迭代实验与测试。\n",
    "\n",
    "## 为图（Graph）提供配置\n",
    "\n",
    "我们的 `task_maistro` 图已经完成了接入智能助手所需的配置。\n",
    "\n",
    "该图包含一个 `configuration.py` 文件，用于声明可以被助手覆盖的可配置字段，并在运行时自动加载。\n",
    "\n",
    "在图的节点逻辑内部，我们可以通过 `user_id`、`todo_category`、`task_maistro_role` 等字段读取不同助手之间的差异。\n",
    "\n",
    "## 创建智能助手\n",
    "\n",
    "回到我们在前面章节中持续构建的 `task_maistro` 应用，它的最佳实践用例是什么？\n",
    "\n",
    "对我而言，优势在于能够为不同场景维护独立的任务清单。\n",
    "\n",
    "例如，我希望一个助手专注管理个人生活的待办事项，另一个助手负责工作任务。\n",
    "\n",
    "这一目标可以通过调整 `todo_category` 与 `task_maistro_role` 这两个可配置字段轻松实现。\n",
    "\n",
    "![智能助手配置界面截图](https://cdn.prod.website-files.com/65b8cd72835ceeacd4449a53/673d50597f4e9eae9abf4869_Screenshot%202024-11-19%20at%206.57.01%E2%80%AFPM.png)\n"
   ]
  },
  {
   "cell_type": "code",
   "execution_count": null,
   "metadata": {},
   "outputs": [],
   "source": [
    "# 安装或升级 LangGraph SDK\n",
    "# 使用 %%capture 魔法命令隐藏安装过程中的常规输出\n",
    "# --no-stderr 参数确保出现错误时仍会显示在终端\n",
    "%%capture --no-stderr\n",
    "%pip install -U langgraph_sdk\n"
   ]
  },
  {
   "cell_type": "markdown",
   "metadata": {},
   "source": [
    "这是部署图时自动创建的默认智能助手，可以作为之后定制助手的参照基线。\n"
   ]
  },
  {
   "cell_type": "code",
   "execution_count": null,
   "metadata": {},
   "outputs": [],
   "source": [
    "# 导入 LangGraph SDK 客户端工厂\n",
    "from langgraph_sdk import get_client\n",
    "\n",
    "# 设置本地部署的 URL 地址\n",
    "# 这里使用通过 CLI 启动的本地服务\n",
    "url_for_cli_deployment = \"http://localhost:8123\"\n",
    "\n",
    "# 创建客户端实例，用于与部署的图交互\n",
    "client = get_client(url=url_for_cli_deployment)\n"
   ]
  },
  {
   "cell_type": "markdown",
   "metadata": {},
   "source": [
    "### 个人助手\n",
    "\n",
    "首先我们构建一个专门处理个人事务的智能助手。\n"
   ]
  },
  {
   "cell_type": "code",
   "execution_count": null,
   "metadata": {},
   "outputs": [],
   "source": [
    "# 创建个人助手\n",
    "# 调用客户端在部署的图上新建一个智能助手实例\n",
    "personal_assistant = await client.assistants.create(\n",
    "    # \"task_maistro\" 是该部署图的名称\n",
    "    \"task_maistro\", \n",
    "    # 配置参数：待办类别设置为 \"personal\"（个人）\n",
    "    config={\"configurable\": {\"todo_category\": \"personal\"}}\n",
    ")\n",
    "\n",
    "# 输出助手的关键信息，确认配置是否生效\n",
    "print(personal_assistant)\n"
   ]
  },
  {
   "cell_type": "markdown",
   "metadata": {},
   "source": [
    "让我们进一步完善这个助手，补充 `user_id` 等专属信息，并[创建一个新版本](https://langchain-ai.github.io/langgraph/cloud/how-tos/assistant_versioning/#create-a-new-version-for-your-assistant)。这样可以在不影响线上环境的前提下安全迭代配置。\n"
   ]
  },
  {
   "cell_type": "code",
   "execution_count": null,
   "metadata": {},
   "outputs": [],
   "source": [
    "# 定义个人助手的角色设定\n",
    "# 这段系统提示词决定了助手的语气与处理逻辑\n",
    "task_maistro_role = \"\"\"你是一位友好且条理清晰的个人任务助手，你的主要职责是帮助用户掌握个人任务和承诺的进度。具体要求：\n",
    "\n",
    "- 协助跟踪并整理个人任务\n",
    "- 当需要提供“待办事项摘要”时：\n",
    "  1. 按截止时间（已逾期、今天、本周、未来）分组列出所有当前任务\n",
    "  2. 标注任何缺少截止日期的任务，并温和地鼓励用户补充\n",
    "  3. 提醒那些看起来重要却缺少预计耗时的任务\n",
    "- 如果新增任务没有截止日期，要主动询问用户是否需要补充\n",
    "- 在帮助用户保持自我管理的同时，始终保持支持性的语气\n",
    "- 根据截止时间和重要性协助用户排列任务优先级\n",
    "\n",
    "你的沟通风格应该积极、乐于助人，而不是评判。\n",
    "\n",
    "当任务缺少截止日期时，可以这样回应：“我注意到 [任务] 还没有截止日期。要不要补充一个，帮助我们更好地追踪？”\"\"\"\n",
    "\n",
    "# 组合需要更新的配置项\n",
    "configurations = {\"todo_category\": \"personal\", \n",
    "                  \"user_id\": \"lance\",\n",
    "                  \"task_maistro_role\": task_maistro_role}\n",
    "\n",
    "# 更新个人助手配置\n",
    "personal_assistant = await client.assistants.update(\n",
    "    personal_assistant[\"assistant_id\"],\n",
    "    config={\"configurable\": configurations}\n",
    ")\n",
    "\n",
    "# 打印更新后的助手信息\n",
    "print(personal_assistant)\n"
   ]
  },
  {
   "cell_type": "markdown",
   "metadata": {},
   "source": [
    "### 工作助手\n",
    "\n",
    "接下来再创建一个面向工作任务的助手，帮助我跟进团队安排。\n"
   ]
  },
  {
   "cell_type": "code",
   "execution_count": null,
   "metadata": {},
   "outputs": [],
   "source": [
    "task_maistro_role = \"\"\"你是一位专注且高效的工作任务助手。\n",
    "\n",
    "你的核心职责是帮助用户以现实可行的时间表管理工作承诺。\n",
    "\n",
    "具体要求：\n",
    "\n",
    "- 协助跟踪并整理工作任务\n",
    "- 当提供“待办事项摘要”时：\n",
    "  1. 按截止时间（已逾期、今天、本周、未来）分组列出所有当前任务\n",
    "  2. 标注任何缺少截止日期的任务，并温和地提醒用户补充\n",
    "  3. 提醒那些看起来重要却缺少预计耗时的任务\n",
    "- 与用户讨论新任务时，结合任务类型给出合理的时间建议：\n",
    "  - 开发者关系相关功能：通常需要 1 天\n",
    "  - 课程课件评审或反馈：通常需要 2 天\n",
    "  - 文档冲刺：通常需要 3 天\n",
    "- 根据截止日期和团队依赖关系帮助用户安排优先级\n",
    "- 在协助用户履行承诺时保持专业、务实的语气\n",
    "\n",
    "当任务缺少截止日期时，可以这样回应：“我注意到 [任务] 还没有截止日期。参考类似的任务，这类工作大约需要 [建议时长]。要不要据此设定一个截止日期？”\"\"\"\n",
    "\n",
    "configurations = {\"todo_category\": \"work\", \n",
    "                  \"user_id\": \"lance\",\n",
    "                  \"task_maistro_role\": task_maistro_role}\n",
    "\n",
    "# 创建工作助手\n",
    "# 使用客户端创建一个新的工作助手实例\n",
    "work_assistant = await client.assistants.create(\n",
    "    # \"task_maistro\" 是我们部署的图的名称\n",
    "    \"task_maistro\", \n",
    "    # 配置参数：待办类别设置为 \"work\"（工作）\n",
    "    config={\"configurable\": configurations}\n",
    ")\n",
    "\n",
    "# 打印创建的工作助手信息\n",
    "print(work_assistant)\n"
   ]
  },
  {
   "cell_type": "markdown",
   "metadata": {},
   "source": [
    "## 使用智能助手\n",
    "\n",
    "智能助手的配置被持久化在部署所使用的 `Postgres` 数据库中。借助 SDK，我们可以方便地[检索](https://langchain-ai.github.io/langgraph/cloud/how-tos/configuration_cloud/)并管理这些助手。\n"
   ]
  },
  {
   "cell_type": "code",
   "execution_count": null,
   "metadata": {},
   "outputs": [],
   "source": [
    "# 搜索所有智能助手\n",
    "# 使用客户端搜索功能获取所有已创建的助手\n",
    "assistants = await client.assistants.search()\n",
    "\n",
    "# 遍历并打印每个助手的基本信息\n",
    "for assistant in assistants:\n",
    "    print({\n",
    "        'assistant_id': assistant['assistant_id'],  # 助手的唯一标识符\n",
    "        'version': assistant['version'],            # 助手的版本号\n",
    "        'config': assistant['config']               # 助手的配置信息\n",
    "    })"
   ]
  },
  {
   "cell_type": "markdown",
   "metadata": {},
   "source": [
    "我们还可以通过 SDK 维护这些助手，例如删除不再使用的测试助手。\n",
    "\n",
    "> 视频中的示例语法已经过时。下面的代码展示了更新后的做法：先创建一个临时助手，再将其删除。\n"
   ]
  },
  {
   "cell_type": "code",
   "execution_count": null,
   "metadata": {},
   "outputs": [],
   "source": [
    "# 创建一个临时的智能助手\n",
    "# 用于演示删除功能\n",
    "temp_assistant = await client.assistants.create(\n",
    "    \"task_maistro\", \n",
    "    config={\"configurable\": configurations}\n",
    ")\n",
    "\n",
    "# 搜索所有助手并显示删除前的状态\n",
    "assistants = await client.assistants.search()\n",
    "for assistant in assistants:\n",
    "    print(f\"删除前: {{'assistant_id': {assistant['assistant_id']}}}\")\n",
    "    \n",
    "# 删除我们的临时助手\n",
    "# 删除最后一个助手（刚创建的临时助手）\n",
    "await client.assistants.delete(assistants[-1][\"assistant_id\"])\n",
    "print()\n",
    "\n",
    "# 再次搜索所有助手并显示删除后的状态\n",
    "assistants = await client.assistants.search()\n",
    "for assistant in assistants:\n",
    "    print(f\"删除后: {{'assistant_id': {assistant['assistant_id']} }}\")"
   ]
  },
  {
   "cell_type": "markdown",
   "metadata": {},
   "source": [
    "接下来，保存个人助手和工作助手的 ID，方便后续调用。\n"
   ]
  },
  {
   "cell_type": "code",
   "execution_count": null,
   "metadata": {},
   "outputs": [],
   "source": [
    "# 设置助手ID变量，方便后续使用\n",
    "# 从搜索结果中获取工作助手和个人助手的ID\n",
    "work_assistant_id = assistants[0]['assistant_id']      # 工作助手的ID\n",
    "personal_assistant_id = assistants[1]['assistant_id']  # 个人助手的ID"
   ]
  },
  {
   "cell_type": "markdown",
   "metadata": {},
   "source": [
    "### 工作助手\n",
    "\n",
    "先让工作助手处理几条任务，观察它的响应。\n"
   ]
  },
  {
   "cell_type": "code",
   "execution_count": null,
   "metadata": {},
   "outputs": [],
   "source": [
    "# 导入必要的消息类型和转换工具\n",
    "from langchain_core.messages import HumanMessage\n",
    "from langchain_core.messages import convert_to_messages\n",
    "\n",
    "# 用户输入：创建或更新几条待办事项\n",
    "user_input = \"请帮我创建或更新几条待办事项：1）今天下班前重新录制第 6 模块第 5 课。2）在下周一之前更新 audioUX。\"\n",
    "\n",
    "# 创建一个新的对话线程\n",
    "# 线程用于管理用户与助手之间的完整对话历史\n",
    "thread = await client.threads.create()\n",
    "\n",
    "# 使用工作助手处理用户输入\n",
    "# 通过流式处理持续获取助手的响应\n",
    "async for chunk in client.runs.stream(thread[\"thread_id\"], \n",
    "                                      work_assistant_id,\n",
    "                                      input={\"messages\": [HumanMessage(content=user_input)]},\n",
    "                                      stream_mode=\"values\"):\n",
    "\n",
    "    # 当接收到值事件时，处理并显示助手的响应\n",
    "    if chunk.event == 'values':\n",
    "        state = chunk.data\n",
    "        # 将消息转换为可读格式并打印最后一条消息\n",
    "        convert_to_messages(state[\"messages\"])[-1].pretty_print()\n"
   ]
  },
  {
   "cell_type": "code",
   "execution_count": null,
   "metadata": {},
   "outputs": [],
   "source": [
    "# 为工作助手新增一条待办\n",
    "user_input = \"再创建一条待办：完成报表生成教程的最终稿。\"\n",
    "\n",
    "# 新建对话线程，用于承载对话上下文\n",
    "thread = await client.threads.create()\n",
    "\n",
    "# 流式运行：将用户消息发送给工作助手，并逐步读取返回值\n",
    "async for chunk in client.runs.stream(thread[\"thread_id\"], \n",
    "                                      work_assistant_id,\n",
    "                                      input={\"messages\": [HumanMessage(content=user_input)]},\n",
    "                                      stream_mode=\"values\"):\n",
    "\n",
    "    # 当事件类型为 values 时，代表有新的状态返回\n",
    "    if chunk.event == 'values':\n",
    "        state = chunk.data\n",
    "        # 打印助手的最后一条消息\n",
    "        convert_to_messages(state[\"messages\"])[-1].pretty_print()\n"
   ]
  },
  {
   "cell_type": "markdown",
   "metadata": {},
   "source": [
    "助手会按照它的系统提示来约束输出，例如在创建任务时提醒我补充截止日期。\n"
   ]
  },
  {
   "cell_type": "code",
   "execution_count": null,
   "metadata": {},
   "outputs": [],
   "source": [
    "# 回复助手：为该任务设置下周二为截止日期\n",
    "user_input = \"好的，这项任务就安排在下周二完成。\"\n",
    "\n",
    "# 继续在同一个线程中进行流式交互\n",
    "async for chunk in client.runs.stream(thread[\"thread_id\"], \n",
    "                                      work_assistant_id,\n",
    "                                      input={\"messages\": [HumanMessage(content=user_input)]},\n",
    "                                      stream_mode=\"values\"):\n",
    "\n",
    "    # 处理返回的状态值\n",
    "    if chunk.event == 'values':\n",
    "        state = chunk.data\n",
    "        # 打印助手的最后一条消息\n",
    "        convert_to_messages(state[\"messages\"])[-1].pretty_print()\n"
   ]
  },
  {
   "cell_type": "markdown",
   "metadata": {},
   "source": [
    "### 个人助手\n",
    "\n",
    "同样的流程也适用于个人助手，我们可以为它创建或查询待办事项。\n"
   ]
  },
  {
   "cell_type": "code",
   "execution_count": null,
   "metadata": {},
   "outputs": [],
   "source": [
    "# 为个人助手批量创建两条待办\n",
    "user_input = \"请创建两条待办：1）本周末了解宝宝游泳课的安排。2）为冬季出行确认 AmEx 积分。\"\n",
    "\n",
    "# 新建线程并以流式方式与个人助手交互\n",
    "thread = await client.threads.create()\n",
    "async for chunk in client.runs.stream(thread[\"thread_id\"], \n",
    "                                      personal_assistant_id,\n",
    "                                      input={\"messages\": [HumanMessage(content=user_input)]},\n",
    "                                      stream_mode=\"values\"):\n",
    "\n",
    "    # 处理返回值事件\n",
    "    if chunk.event == 'values':\n",
    "        state = chunk.data\n",
    "        # 打印助手的最后一条消息\n",
    "        convert_to_messages(state[\"messages\"])[-1].pretty_print()\n"
   ]
  },
  {
   "cell_type": "code",
   "execution_count": null,
   "metadata": {},
   "outputs": [],
   "source": [
    "# 让个人助手给出当前待办摘要\n",
    "user_input = \"请给我一个待办事项摘要。\"\n",
    "\n",
    "# 新建线程并请求摘要\n",
    "thread = await client.threads.create()\n",
    "async for chunk in client.runs.stream(thread[\"thread_id\"], \n",
    "                                      personal_assistant_id,\n",
    "                                      input={\"messages\": [HumanMessage(content=user_input)]},\n",
    "                                      stream_mode=\"values\"):\n",
    "\n",
    "    # 处理流式返回并打印最终消息\n",
    "    if chunk.event == 'values':\n",
    "        state = chunk.data\n",
    "        convert_to_messages(state[\"messages\"])[-1].pretty_print()\n"
   ]
  }
 ],
 "metadata": {
  "kernelspec": {
   "display_name": "Python 3 (ipykernel)",
   "language": "python",
   "name": "python3"
  },
  "language_info": {
   "codemirror_mode": {
    "name": "ipython",
    "version": 3
   },
   "file_extension": ".py",
   "mimetype": "text/x-python",
   "name": "python",
   "nbconvert_exporter": "python",
   "pygments_lexer": "ipython3",
   "version": "3.11.13"
  }
 },
 "nbformat": 4,
 "nbformat_minor": 4
}